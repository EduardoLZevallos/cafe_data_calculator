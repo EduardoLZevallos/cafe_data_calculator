{
 "cells": [
  {
   "cell_type": "markdown",
   "id": "5d81400b-863b-442b-9ab9-628ee860c282",
   "metadata": {},
   "source": [
    "## Un emjemplo imaginario\n",
    "Imaginemos que tenemos un cliente que quiere que se procesen 501 peticiones al mismo tiempo sobre diversa información de stock.  Las peticiones de información se procesan en nuestras máquinas utilizando un recurso limitado llamado procesador.  \n",
    "- El procesador puede procesar 10 peticiones al mismo tiempo. No podemos tener mitad de procesador\n",
    "- Cada máquina tiene 5 procesadores.  No podemos tener mitad de maquina\n",
    "- Si la solicitud de información se realiza después de las 12:00, se considera hora punta y es posible que la peticion compita por los recursos.  Por eso, el cliente necesitará una asignación adicional del 25%.\n",
    "\n",
    "Cuantas maquinas necesitas para proceser 501 peticiones al mismo tiempo?"
   ]
  },
  {
   "cell_type": "markdown",
   "id": "c6e3cdb5-498d-4fe2-9dfe-222647713833",
   "metadata": {},
   "source": [
    "Esta pregunta requiere varias conversiones de unidades, de petición a procesadores y a máquinas.\n",
    "Las variables son las peticiones y la hora del dia."
   ]
  },
  {
   "cell_type": "code",
   "execution_count": null,
   "id": "69c763a9-f847-4a0c-bbfa-5c86e52bf95f",
   "metadata": {},
   "outputs": [],
   "source": [
    "peticiones = 501"
   ]
  },
  {
   "cell_type": "code",
   "execution_count": null,
   "id": "255f226d-6756-4a63-80a3-9c832df446dc",
   "metadata": {},
   "outputs": [],
   "source": [
    "peticiones"
   ]
  },
  {
   "cell_type": "code",
   "execution_count": null,
   "id": "83790184-104f-40e5-93bf-ba155e5914a8",
   "metadata": {},
   "outputs": [],
   "source": [
    "def convertir_peticiones_a_procesadores(peticiones):\n",
    "    return peticiones / 10"
   ]
  },
  {
   "cell_type": "code",
   "execution_count": null,
   "id": "1d365baa-fa3c-4e52-b00e-18b6c7caefa5",
   "metadata": {},
   "outputs": [],
   "source": [
    "convertir_peticiones_a_procesadores(peticiones)"
   ]
  },
  {
   "cell_type": "markdown",
   "id": "99a82c26-a993-45f1-aeb3-1640f4c8b72e",
   "metadata": {},
   "source": [
    "No podemos tener la mitad de un procesador en este ejemplo.  Tenemos que redondear"
   ]
  },
  {
   "cell_type": "code",
   "execution_count": null,
   "id": "244ffc70-443d-456a-8672-49c2ab148780",
   "metadata": {},
   "outputs": [],
   "source": [
    "import math # https://docs.python.org/es/3/library/math.html"
   ]
  },
  {
   "cell_type": "code",
   "execution_count": null,
   "id": "440d3de1-d1d5-4eaa-aba3-b804fc78e047",
   "metadata": {},
   "outputs": [],
   "source": [
    "def convertir_peticiones_a_procesadores(peticiones):\n",
    "    return math.ceil(peticiones/10)"
   ]
  },
  {
   "cell_type": "code",
   "execution_count": null,
   "id": "70ba443d-50db-4811-b3a9-8705733f60e6",
   "metadata": {},
   "outputs": [],
   "source": [
    "convertir_peticiones_a_procesadores(501)"
   ]
  },
  {
   "cell_type": "markdown",
   "id": "3134ca59-4dd1-409c-a101-55d8dd98f8f6",
   "metadata": {},
   "source": [
    "Ahora debemos convertir los procesadores en máquinas"
   ]
  },
  {
   "cell_type": "code",
   "execution_count": null,
   "id": "1fade47a-c8b2-4b08-9753-5e16f4ab9ff4",
   "metadata": {},
   "outputs": [],
   "source": [
    "def convertir_procesadores_a_maquinas(procesadores):\n",
    "    return math.ceil(procesadores / 5)"
   ]
  },
  {
   "cell_type": "code",
   "execution_count": null,
   "id": "e0626426-d9ee-42b6-bea8-168a6455491f",
   "metadata": {},
   "outputs": [],
   "source": [
    "convertir_procesadores_a_maquinas(51)"
   ]
  },
  {
   "cell_type": "markdown",
   "id": "df14c07d-0cc0-4b59-9480-52163df73423",
   "metadata": {},
   "source": [
    "Si la peticiones se realiza antes de las 12:00, necesitaremos 11 máquinas para procesar 501 peticiones al mismo tiempo.  Si la peticiones se realiza después de las 12.00, debemos tener en cuenta que se necesita un 25% más de capacidad"
   ]
  },
  {
   "cell_type": "code",
   "execution_count": null,
   "id": "2fcafbeb-c44b-4a10-baf5-21f48392ffc2",
   "metadata": {},
   "outputs": [],
   "source": [
    "import datetime # https://docs.python.org/es/3/library/datetime.html "
   ]
  },
  {
   "cell_type": "code",
   "execution_count": null,
   "id": "26f51243-43bd-4b63-87fb-d3afb245b1b1",
   "metadata": {},
   "outputs": [],
   "source": [
    "def aplicar_capacidad_adicional(maquinas, hora_del_dia):\n",
    "    if hora_del_dia >= datetime.time(12, 0):\n",
    "        capacidad_adicional = math.ceil(maquinas * .25)\n",
    "        maquinas += capacidad_adicional\n",
    "    return maquinas"
   ]
  },
  {
   "cell_type": "code",
   "execution_count": null,
   "id": "4c28d1b3-affe-483b-981c-a0f0fa90a919",
   "metadata": {},
   "outputs": [],
   "source": [
    "aplicar_capacidad_adicional(11, datetime.time(12,1))"
   ]
  },
  {
   "cell_type": "markdown",
   "id": "17cd40d8-8ada-431a-b92f-2f87d3685761",
   "metadata": {},
   "source": [
    "Ahora vamos a crear la interfaz de usuario para estos cálculos básicos, utilizando panel https://panel.holoviz.org/  "
   ]
  },
  {
   "cell_type": "code",
   "execution_count": null,
   "id": "946a02ad-b88e-4264-b600-d6af06a368d6",
   "metadata": {},
   "outputs": [],
   "source": [
    "import panel as pn\n",
    "pn.extension()"
   ]
  },
  {
   "cell_type": "markdown",
   "id": "b2356206-3fa0-4f6a-9728-b0934c60396a",
   "metadata": {},
   "source": [
    "- ¿Cuáles son nuestras entradas? Peticiones y hora. \n",
    "- ¿Cuáles son nuestras salidad? maquinas"
   ]
  },
  {
   "cell_type": "code",
   "execution_count": null,
   "id": "ae8681c2-fce9-4732-bf03-372115d5b402",
   "metadata": {
    "scrolled": true
   },
   "outputs": [],
   "source": [
    "peticiones_entrada = pn.widgets.IntInput(name='Peticiones', value=1, step=1, start=1, end=1000000)\n",
    "hora_entrada = pn.widgets.DatetimeInput(name='Hora de dia', value=datetime.datetime(2019, 2, 8, 0,0), format ='%H:%M') # requires datetime package\n",
    "app = pn.Row(peticiones_entrada,hora_entrada)\n",
    "app.servable()"
   ]
  },
  {
   "cell_type": "markdown",
   "id": "95ee31bb-4590-47f7-bd71-561230c0fe43",
   "metadata": {},
   "source": [
    "Ahora querremos una función que procese nuestro cálculo, un botón que dispare esa función y una salida para el cálculo"
   ]
  },
  {
   "cell_type": "code",
   "execution_count": null,
   "id": "5b6d5843-d516-4e2c-bb13-e9aa2329b70d",
   "metadata": {},
   "outputs": [],
   "source": [
    "maquinas_salidad = pn.widgets.IntInput(name='Maquinas', value = 0, disabled= True)"
   ]
  },
  {
   "cell_type": "code",
   "execution_count": null,
   "id": "12ae26fe-0702-40af-96f7-330cc7890559",
   "metadata": {},
   "outputs": [],
   "source": [
    "def al_hacer_clic_calculo(evento):\n",
    "    procesadors = convertir_peticiones_a_procesadores(peticiones_entrada.value)\n",
    "    maquinas = aplicar_capacidad_adicional(convertir_procesadores_a_maquinas(procesadors),hora_entrada.value.time())\n",
    "    maquinas_salidad.value = maquinas"
   ]
  },
  {
   "cell_type": "code",
   "execution_count": null,
   "id": "f1d4f990-fd75-465e-bc75-b7e76e040688",
   "metadata": {},
   "outputs": [],
   "source": [
    "boton_calcular = pn.widgets.Button(name='Calculo', button_type='primary')\n",
    "boton_calcular.on_click(al_hacer_clic_calculo)"
   ]
  },
  {
   "cell_type": "code",
   "execution_count": null,
   "id": "d0fffaef-d397-4a1e-849a-10514805187b",
   "metadata": {},
   "outputs": [],
   "source": [
    "app = pn.Column(pn.Row(peticiones_entrada,hora_entrada), boton_calcular, maquinas_salidad)"
   ]
  },
  {
   "cell_type": "markdown",
   "id": "e67af692-80e3-4c07-9600-57a10d9e076e",
   "metadata": {},
   "source": [
    "**NOTA:** He tenido problemas con el botón ui en jupyter lab, si te encuentras con esto también ejecutar en jupyter classic. <br>\n",
    "Hice esto yendo a  Help > Launch Classic Notebook <br>\n",
    "![image.png](images/launch_classic.png)"
   ]
  },
  {
   "cell_type": "code",
   "execution_count": null,
   "id": "2409f2ae-5496-4f3e-9e85-119390f6c746",
   "metadata": {},
   "outputs": [],
   "source": [
    "app.servable()"
   ]
  },
  {
   "cell_type": "markdown",
   "id": "a16187d1-2b7f-4d3f-acc9-48871e914fb7",
   "metadata": {},
   "source": [
    "En este punto tenemos la esquema de nuestra calculadora, conocemos nuestras entradas y salidas y hemos definido funciones para la lógica de la calculadora"
   ]
  }
 ],
 "metadata": {
  "kernelspec": {
   "display_name": "Python 3 (ipykernel)",
   "language": "python",
   "name": "python3"
  },
  "language_info": {
   "codemirror_mode": {
    "name": "ipython",
    "version": 3
   },
   "file_extension": ".py",
   "mimetype": "text/x-python",
   "name": "python",
   "nbconvert_exporter": "python",
   "pygments_lexer": "ipython3",
   "version": "3.9.5"
  }
 },
 "nbformat": 4,
 "nbformat_minor": 5
}
