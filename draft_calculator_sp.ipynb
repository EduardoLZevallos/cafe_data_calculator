{
 "cells": [
  {
   "cell_type": "markdown",
   "id": "5d81400b-863b-442b-9ab9-628ee860c282",
   "metadata": {},
   "source": [
    "## Prompt\n",
    "Imaginemos que tenemos un cliente que quiere que se procesen 501 peticiones al mismo tiempo sobre diversa información de stock.  Las peticiones de información se procesan en nuestras máquinas utilizando un recurso limitado llamado procesador.  El procesador puede procesar 10 peticiones al mismo tiempo.  Cada máquina tiene 5 procesadores.  Si la solicitud de información se realiza después de las 12:00, se considera hora punta y es probable que la solicitud compita por los recursos.  Por ello, el cliente necesitará una asignación adicional del 25%."
   ]
  },
  {
   "cell_type": "markdown",
   "id": "c6e3cdb5-498d-4fe2-9dfe-222647713833",
   "metadata": {},
   "source": [
    "Esta pregunta requiere varias conversiones de unidades, de petición a procesadores y a máquinas, y luego hay que tener en cuenta el tiempo."
   ]
  },
  {
   "cell_type": "code",
   "execution_count": null,
   "id": "69c763a9-f847-4a0c-bbfa-5c86e52bf95f",
   "metadata": {},
   "outputs": [],
   "source": [
    "requests = 501 #solicitas"
   ]
  },
  {
   "cell_type": "code",
   "execution_count": null,
   "id": "83790184-104f-40e5-93bf-ba155e5914a8",
   "metadata": {},
   "outputs": [],
   "source": [
    "def convert_request_to_processors(requests):\n",
    "    return requests / 10"
   ]
  },
  {
   "cell_type": "code",
   "execution_count": null,
   "id": "1d365baa-fa3c-4e52-b00e-18b6c7caefa5",
   "metadata": {},
   "outputs": [],
   "source": [
    "convert_request_to_processors(requests)"
   ]
  },
  {
   "cell_type": "markdown",
   "id": "99a82c26-a993-45f1-aeb3-1640f4c8b72e",
   "metadata": {},
   "source": [
    "No podemos tener la mitad de un procesador, o se tiene o no se tiene.  Deberíamos redondear"
   ]
  },
  {
   "cell_type": "code",
   "execution_count": null,
   "id": "244ffc70-443d-456a-8672-49c2ab148780",
   "metadata": {},
   "outputs": [],
   "source": [
    "import math"
   ]
  },
  {
   "cell_type": "code",
   "execution_count": null,
   "id": "440d3de1-d1d5-4eaa-aba3-b804fc78e047",
   "metadata": {},
   "outputs": [],
   "source": [
    "def convert_request_to_processors(request):\n",
    "    return math.ceil(request/10)"
   ]
  },
  {
   "cell_type": "code",
   "execution_count": null,
   "id": "70ba443d-50db-4811-b3a9-8705733f60e6",
   "metadata": {},
   "outputs": [],
   "source": [
    "convert_request_to_processors(requests)"
   ]
  },
  {
   "cell_type": "markdown",
   "id": "3134ca59-4dd1-409c-a101-55d8dd98f8f6",
   "metadata": {},
   "source": [
    "Ahora debemos convertir los procesadores en máquinas"
   ]
  },
  {
   "cell_type": "code",
   "execution_count": null,
   "id": "1fade47a-c8b2-4b08-9753-5e16f4ab9ff4",
   "metadata": {},
   "outputs": [],
   "source": [
    "def convert_processors_to_machines(processors):\n",
    "    return math.ceil(processors / 5)"
   ]
  },
  {
   "cell_type": "code",
   "execution_count": null,
   "id": "e0626426-d9ee-42b6-bea8-168a6455491f",
   "metadata": {},
   "outputs": [],
   "source": [
    "convert_processors_to_machines(51)"
   ]
  },
  {
   "cell_type": "markdown",
   "id": "df14c07d-0cc0-4b59-9480-52163df73423",
   "metadata": {},
   "source": [
    "Si la solicitud se realiza antes de las 12:00, necesitaremos 11 máquinas para procesar 501 solicitudes de información sobre existencias al mismo tiempo.  Si la solicitud se realiza después de las 12.00 horas, debemos tener en cuenta que se necesita un 25% más de capacidad"
   ]
  },
  {
   "cell_type": "code",
   "execution_count": null,
   "id": "2fcafbeb-c44b-4a10-baf5-21f48392ffc2",
   "metadata": {},
   "outputs": [],
   "source": [
    "import datetime"
   ]
  },
  {
   "cell_type": "code",
   "execution_count": null,
   "id": "26f51243-43bd-4b63-87fb-d3afb245b1b1",
   "metadata": {},
   "outputs": [],
   "source": [
    "def apply_additional_capacity(machines, time):\n",
    "    if time >= datetime.time(12, 0):\n",
    "        additional_capacity = math.ceil(machines * .25)\n",
    "        machines += additional_capacity\n",
    "    return machines"
   ]
  },
  {
   "cell_type": "code",
   "execution_count": null,
   "id": "4c28d1b3-affe-483b-981c-a0f0fa90a919",
   "metadata": {},
   "outputs": [],
   "source": [
    "apply_additional_capacity(11, datetime.time(12,1))"
   ]
  },
  {
   "cell_type": "markdown",
   "id": "17cd40d8-8ada-431a-b92f-2f87d3685761",
   "metadata": {},
   "source": [
    "Ahora vamos a crear la interfaz de usuario para estos cálculos básicos, utilizando el panel https://panel.holoviz.org/  "
   ]
  },
  {
   "cell_type": "code",
   "execution_count": null,
   "id": "946a02ad-b88e-4264-b600-d6af06a368d6",
   "metadata": {},
   "outputs": [],
   "source": [
    "import panel as pn\n",
    "import datetime\n",
    "pn.extension()"
   ]
  },
  {
   "cell_type": "markdown",
   "id": "b2356206-3fa0-4f6a-9728-b0934c60396a",
   "metadata": {},
   "source": [
    "¿Cuáles son nuestras entradas? Peticiones y hora del día. "
   ]
  },
  {
   "cell_type": "code",
   "execution_count": null,
   "id": "e7a1f09e-ff3a-430d-9002-2038f3521cce",
   "metadata": {},
   "outputs": [],
   "source": [
    "request_input = pn.widgets.IntInput(name='Requests', value=1, step=1, start=1, end=1000000)\n",
    "time_input = pn.widgets.DatetimeInput(name='Time of request', value=datetime.datetime(2019, 2, 8, 0,0), format ='%H:%M') # requires datetime package\n",
    "app = pn.Row(request_input,time_input)\n",
    "app"
   ]
  },
  {
   "cell_type": "markdown",
   "id": "95ee31bb-4590-47f7-bd71-561230c0fe43",
   "metadata": {},
   "source": [
    "Ahora querremos una función que procese nuestro cálculo, un botón que dispare esa función y una salida para el cálculo"
   ]
  },
  {
   "cell_type": "code",
   "execution_count": null,
   "id": "5b6d5843-d516-4e2c-bb13-e9aa2329b70d",
   "metadata": {},
   "outputs": [],
   "source": [
    "machines_output = pn.widgets.IntInput(name='Machines', value = 0, disabled= True)"
   ]
  },
  {
   "cell_type": "code",
   "execution_count": null,
   "id": "12ae26fe-0702-40af-96f7-330cc7890559",
   "metadata": {},
   "outputs": [],
   "source": [
    "def on_click_calculate(event):\n",
    "    processors = convert_request_to_processors(request_input.value)\n",
    "    machines = convert_processors_to_machines(processors)\n",
    "    if time_input.value.time() >= datetime.time(12, 0):\n",
    "        additional_capacity = peak_time_capacity(machines)\n",
    "        machines += additional_capacity\n",
    "    machines_output.value = machines"
   ]
  },
  {
   "cell_type": "code",
   "execution_count": null,
   "id": "f1d4f990-fd75-465e-bc75-b7e76e040688",
   "metadata": {},
   "outputs": [],
   "source": [
    "calculate_button = pn.widgets.Button(name='Calculate', button_type='primary')\n",
    "calculate_button.on_click(on_click_calculate)"
   ]
  },
  {
   "cell_type": "code",
   "execution_count": null,
   "id": "d0fffaef-d397-4a1e-849a-10514805187b",
   "metadata": {},
   "outputs": [],
   "source": [
    "app = pn.Column(pn.Row(request_input,time_input), calculate_button, machines_output)"
   ]
  },
  {
   "cell_type": "markdown",
   "id": "e67af692-80e3-4c07-9600-57a10d9e076e",
   "metadata": {},
   "source": [
    "**NOTA:** He tenido problemas con el botón ui en jupyter lab, si te encuentras con esto también ejecutar en jupyter classic. <br>\n",
    "Hice esto yendo a  Help > Launch Classic Notebook <br>\n",
    "![image.png](images/launch_classic.png)"
   ]
  },
  {
   "cell_type": "code",
   "execution_count": null,
   "id": "2409f2ae-5496-4f3e-9e85-119390f6c746",
   "metadata": {},
   "outputs": [],
   "source": [
    "app.servable()"
   ]
  },
  {
   "cell_type": "markdown",
   "id": "a16187d1-2b7f-4d3f-acc9-48871e914fb7",
   "metadata": {},
   "source": [
    "En este punto tenemos esencialmente el esqueleto de nuestra calculadora, conocemos nuestras entradas y salidas y hemos definido funciones para la lógica de la calculadora"
   ]
  }
 ],
 "metadata": {
  "kernelspec": {
   "display_name": "calculator_tutorial_kernel",
   "language": "python",
   "name": "calculator_tutorial_kernel"
  },
  "language_info": {
   "codemirror_mode": {
    "name": "ipython",
    "version": 3
   },
   "file_extension": ".py",
   "mimetype": "text/x-python",
   "name": "python",
   "nbconvert_exporter": "python",
   "pygments_lexer": "ipython3",
   "version": "3.11.6"
  }
 },
 "nbformat": 4,
 "nbformat_minor": 5
}
