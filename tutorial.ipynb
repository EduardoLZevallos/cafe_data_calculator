{
 "cells": [
  {
   "cell_type": "markdown",
   "id": "e9ee9470-e5da-424d-8d78-e77285ad2de1",
   "metadata": {
    "tags": []
   },
   "source": [
    "# TUTORIAL"
   ]
  },
  {
   "cell_type": "markdown",
   "id": "93e23de7-29a8-41e2-8b3f-8b39148c805b",
   "metadata": {
    "jp-MarkdownHeadingCollapsed": true,
    "tags": []
   },
   "source": [
    "## Creating a Python Package\n",
    "https://packaging.python.org/en/latest/guides/section-build-and-publish/"
   ]
  },
  {
   "cell_type": "markdown",
   "id": "7002ec3c-7612-447e-8a08-d47f0dccedd9",
   "metadata": {
    "jp-MarkdownHeadingCollapsed": true,
    "tags": []
   },
   "source": [
    "### Convert to script"
   ]
  },
  {
   "cell_type": "markdown",
   "id": "4a067206-7dce-4054-8410-4d50d0080130",
   "metadata": {},
   "source": [
    "Lets first turn out notebook into a script"
   ]
  },
  {
   "cell_type": "markdown",
   "id": "407d0670-52c4-4c3a-bf65-058d3c1a60cf",
   "metadata": {
    "tags": []
   },
   "source": [
    "![image.png](images/convert_to_script.png)"
   ]
  },
  {
   "cell_type": "markdown",
   "id": "321860b1-d8dc-44df-a355-2ac82a482aec",
   "metadata": {},
   "source": [
    "**Demo output of executable script**"
   ]
  },
  {
   "cell_type": "markdown",
   "id": "a2d4e1e6-bcb5-46fb-8351-9dba6d522c48",
   "metadata": {},
   "source": [
    "After some cleanup we'll name our script calculator.py and it will have the three functions we used in this notebook <br>\n",
    "![image.png](images/calculator_py.png)"
   ]
  },
  {
   "cell_type": "markdown",
   "id": "699a71c4-05a6-4e46-a117-e0a7c0dc848a",
   "metadata": {
    "jp-MarkdownHeadingCollapsed": true,
    "tags": []
   },
   "source": [
    "### Create unit test"
   ]
  },
  {
   "cell_type": "markdown",
   "id": "ffaffa60-cd06-4099-840d-a4bc1dce6b3e",
   "metadata": {},
   "source": [
    "Lets also add some unit test. The benefit of testing is that it serves as a form of documentation, it makes future refactors a lot easier since we'll see if we broke something immediately and it confirms that our code works in the manner we believe it should work.  We should aim to test edge cases and conditional paths of the code <br>\n",
    "We'll put our tests in a folder called tests and name it test_{module we're testing}.py <br> \n",
    "**Bring up the test_calculator.py and run them for demo** "
   ]
  },
  {
   "cell_type": "markdown",
   "id": "79ec4e07-fae3-43a9-bdb3-3cc02f2e414a",
   "metadata": {
    "jp-MarkdownHeadingCollapsed": true,
    "tags": []
   },
   "source": [
    "### Convert script to package"
   ]
  },
  {
   "cell_type": "markdown",
   "id": "51b93ace-7362-484d-bc0d-4d77c8ed4f14",
   "metadata": {},
   "source": [
    "Next we'll want to turn our script into a package, by creating a pyproject-toml <br>\n",
    "https://packaging.python.org/en/latest/guides/writing-pyproject-toml/"
   ]
  },
  {
   "cell_type": "markdown",
   "id": "79aef9a0-3641-4156-abda-5f7b9cf7e35f",
   "metadata": {},
   "source": [
    "My pyproject.toml for this project <br>\n",
    "![image.png](images/pyprojecttoml_1.png)"
   ]
  },
  {
   "cell_type": "markdown",
   "id": "b93769ef-6e92-4b95-8e65-090db6172d7e",
   "metadata": {},
   "source": [
    "Now with the pyproject.toml, we have the ability to install our package \n",
    "using the command . pyproject.toml is the specified file format of PEP 518 which contains the build system requirements of Python projects. https://peps.python.org/pep-0518/ \n",
    "```\n",
    "pip install .\n",
    "```"
   ]
  },
  {
   "cell_type": "markdown",
   "id": "440efc32-56c9-4d48-88cb-473ba5cddf7f",
   "metadata": {
    "jp-MarkdownHeadingCollapsed": true,
    "tags": []
   },
   "source": [
    "## Building and Publishing the package"
   ]
  },
  {
   "cell_type": "markdown",
   "id": "b7bf3acc-d29e-49d4-861b-d6711bd40379",
   "metadata": {},
   "source": [
    "1. install twine \n",
    "```\n",
    "python3 -m pip install twine\n",
    "```\n",
    "\n",
    "2. install build\n",
    "```\n",
    "python3 -m pip install build\n",
    "```\n",
    "3. Then run \n",
    "```\n",
    "python3 -m build --sdist\n",
    "```\n",
    "\n",
    "4. Lets publish our package to testpypi to make sure it works as intended, if it works as intended then we will publish it to pypi  https://packaging.python.org/en/latest/guides/using-testpypi/ , which requires creating an account on https://test.pypi.org \n",
    "\n",
    "5. After creating an account you need to create an api token to upload https://test.pypi.org/manage/account/ <br>\n",
    "![image.png](images/add_api_token.png)\n",
    "\n",
    "6. Using this token\n",
    "To use this API token:\n",
    "\n",
    "    Set your username to __token__\n",
    "    Set your password to the token value, including the pypi- prefix\n",
    "\n",
    "For example, if you are using Twine to upload your projects to PyPI, set up your $HOME/.pypirc file like this.We'll either edit the existing file or create a new file: \n",
    "```\n",
    "vim $HOME/.pypirc \n",
    "```\n",
    "Now add this to the .pypirc file <br>\n",
    "```\n",
    "[testpypi] <br>\n",
    "username = __token__\n",
    "password = pypi- \n",
    "```\n",
    "\n",
    "7. Upload it with command \n",
    "```\n",
    "twine upload --repository testpypi dist/*\n",
    "```\n",
    "\n",
    "8. Now we can view that our package exist on test.pypi <br> \n",
    "https://test.pypi.org/project/cafe-data-calculator/0.0.1/ \n",
    "\n",
    "9. We can now install our package in fresh environments and use these functions by\n",
    "```\n",
    "pip install -i https://test.pypi.org/simple/ cafe-data-calculator==0.0.1\n",
    "```"
   ]
  },
  {
   "cell_type": "markdown",
   "id": "26445785-e77b-4fde-841f-94069f211988",
   "metadata": {
    "jp-MarkdownHeadingCollapsed": true,
    "tags": []
   },
   "source": [
    "## Editing an existing package"
   ]
  },
  {
   "cell_type": "markdown",
   "id": "8f8646f9-9bb4-4edb-a581-8f4a76116f79",
   "metadata": {},
   "source": [
    "If we need to make changes to the package, we need to republish the package\n",
    "1. Make your changes, then make sure to bump the version in the pyproject.yml in our case from 0.0.1 to 0.0.2 <br>\n",
    "![image.png](images/pyprojecttoml_2.png) <br>\n",
    "2. Then build <br> \n",
    "```\n",
    "python3 -m build --sdist\n",
    "```\n",
    "3. Upload <br>\n",
    "```\n",
    "twine upload --repository testpypi dist/*\n",
    "```\n",
    "4. Now we have a new version https://test.pypi.org/project/cafe-data-calculator/0.0.2/ <br>"
   ]
  },
  {
   "cell_type": "markdown",
   "id": "f9e00d0b-30f6-4cc7-8ea1-bef93f8b037b",
   "metadata": {
    "jp-MarkdownHeadingCollapsed": true,
    "tags": []
   },
   "source": [
    "## Publishing to pypi"
   ]
  },
  {
   "cell_type": "markdown",
   "id": "6d7a8405-efed-4229-8343-c24fe64602b2",
   "metadata": {
    "jp-MarkdownHeadingCollapsed": true,
    "tags": []
   },
   "source": [
    "1. Similar to testpypi, we'll need to create an account on https://pypi.org/\n",
    "2. then create an api key https://pypi.org/manage/account/ \n",
    "3. add it to pypirc <br>\n",
    "\n",
    "```\n",
    "vim $HOME/.pypirc \n",
    "```\n",
    "then \n",
    "\n",
    "```\n",
    "[pypi]\n",
    "username = __token__\n",
    "password = pypi-\n",
    "```\n",
    "\n",
    "4. Then build <br> \n",
    "```\n",
    "python3 -m build\n",
    "```\n",
    "\n",
    "5. Then upload <br>\n",
    "```\n",
    "twine upload dist/*\n",
    "```\n",
    "For more details:\n",
    "https://realpython.com/pypi-publish-python-package/#upload-your-package\n",
    "\n",
    "6. We can now see our package is uploaded https://pypi.org/project/cafe-data-calculator/0.0.2/ "
   ]
  },
  {
   "cell_type": "markdown",
   "id": "9a945887-6238-4e98-9ddb-61755fbe1a4c",
   "metadata": {
    "tags": []
   },
   "source": [
    "## Deployment"
   ]
  },
  {
   "cell_type": "markdown",
   "id": "078f9ebe-65ec-44db-bcd6-35a56e23dfa6",
   "metadata": {},
   "source": [
    "Now lets deploy our app to https://mybinder.org/ <br>\n",
    "\n",
    "\"mybinder.org is an online service for building and sharing reproducible and interactive computational environments from online repositories. Under the hood, it is a federation of BinderHub deployments that are maintained by the Binder community. It serves as both a public service and a demonstration of the BinderHub technology, though it is by no means the only BinderHub in existence. If you’re interested in deploying your own BinderHub for your own uses, please see the BinderHub documentation and don’t hesitate to reach out to the Binder community.\"\n",
    "https://mybinder.readthedocs.io/en/latest/introduction.html#introduction \n",
    "\n",
    "![image.png](images/binder.png)"
   ]
  },
  {
   "cell_type": "markdown",
   "id": "fc3be682-08b3-48af-8d71-96044dbd6bd6",
   "metadata": {},
   "source": [
    "[![Binder](https://mybinder.org/badge_logo.svg)](https://mybinder.org/v2/gh/EduardoLZevallos/cafe_data_calculator.git/main?labpath=clean_calculator.ipynb)"
   ]
  },
  {
   "cell_type": "markdown",
   "id": "a7374c7e-23ca-4946-b082-b880a1907d29",
   "metadata": {},
   "source": [
    "Try to get it work as an app \n",
    "https://discourse.holoviz.org/t/how-do-i-serve-my-panel-apps-on-binder/1946 \n",
    "https://panel.holoviz.org/how_to/deployment/binder.html\n",
    "this person's example \n",
    "https://github.com/MarcSkovMadsen/load-forecasts/blob/main/app_code.py \n",
    "https://hub.ovh2.mybinder.org/user/marcskovmadsen-load-forecasts-vbv4k5ly/panel/app?token=GtAhdHgsRIm82nl_voawrQ"
   ]
  }
 ],
 "metadata": {
  "kernelspec": {
   "display_name": "calculator_tutorial_kernel",
   "language": "python",
   "name": "calculator_tutorial_kernel"
  },
  "language_info": {
   "codemirror_mode": {
    "name": "ipython",
    "version": 3
   },
   "file_extension": ".py",
   "mimetype": "text/x-python",
   "name": "python",
   "nbconvert_exporter": "python",
   "pygments_lexer": "ipython3",
   "version": "3.11.6"
  }
 },
 "nbformat": 4,
 "nbformat_minor": 5
}
