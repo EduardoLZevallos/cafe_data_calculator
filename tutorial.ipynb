{
 "cells": [
  {
   "cell_type": "markdown",
   "id": "e9ee9470-e5da-424d-8d78-e77285ad2de1",
   "metadata": {
    "tags": []
   },
   "source": [
    "# TUTORIAL"
   ]
  },
  {
   "cell_type": "markdown",
   "id": "93e23de7-29a8-41e2-8b3f-8b39148c805b",
   "metadata": {
    "jp-MarkdownHeadingCollapsed": true,
    "tags": []
   },
   "source": [
    "## Creating a Python Package\n",
    "https://packaging.python.org/en/latest/guides/section-build-and-publish/"
   ]
  },
  {
   "cell_type": "markdown",
   "id": "7002ec3c-7612-447e-8a08-d47f0dccedd9",
   "metadata": {
    "jp-MarkdownHeadingCollapsed": true,
    "tags": []
   },
   "source": [
    "### Convert to script"
   ]
  },
  {
   "cell_type": "markdown",
   "id": "4a067206-7dce-4054-8410-4d50d0080130",
   "metadata": {},
   "source": [
    "Lets first turn out notebook into a script"
   ]
  },
  {
   "cell_type": "markdown",
   "id": "407d0670-52c4-4c3a-bf65-058d3c1a60cf",
   "metadata": {
    "tags": []
   },
   "source": [
    "![image.png](images/convert_to_script.png)"
   ]
  },
  {
   "cell_type": "markdown",
   "id": "321860b1-d8dc-44df-a355-2ac82a482aec",
   "metadata": {},
   "source": [
    "**Demo output of executable script**"
   ]
  },
  {
   "cell_type": "markdown",
   "id": "a2d4e1e6-bcb5-46fb-8351-9dba6d522c48",
   "metadata": {},
   "source": [
    "After some cleanup we'll name our script calculator.py and it will have the three functions we used in this notebook <br>\n",
    "![image.png](images/calculator_py.png)"
   ]
  },
  {
   "cell_type": "markdown",
   "id": "699a71c4-05a6-4e46-a117-e0a7c0dc848a",
   "metadata": {
    "jp-MarkdownHeadingCollapsed": true,
    "tags": []
   },
   "source": [
    "### Create unit test"
   ]
  },
  {
   "cell_type": "markdown",
   "id": "ffaffa60-cd06-4099-840d-a4bc1dce6b3e",
   "metadata": {},
   "source": [
    "Lets also add some unit test. The benefit of testing is that it serves as a form of documentation, it makes future refactors a lot easier since we'll see if we broke something immediately and it confirms that our code works in the manner we believe it should work.  We should aim to test edge cases and conditional paths of the code <br>\n",
    "We'll put our tests in a folder called tests and name it test_{module we're testing}.py <br> \n",
    "**Bring up the test_calculator.py and run them for demo** "
   ]
  },
  {
   "cell_type": "markdown",
   "id": "79ec4e07-fae3-43a9-bdb3-3cc02f2e414a",
   "metadata": {
    "jp-MarkdownHeadingCollapsed": true,
    "tags": []
   },
   "source": [
    "### Convert script to package"
   ]
  },
  {
   "cell_type": "markdown",
   "id": "51b93ace-7362-484d-bc0d-4d77c8ed4f14",
   "metadata": {},
   "source": [
    "Next we'll want to turn our script into a package, by creating a pyproject-toml <br>\n",
    "https://packaging.python.org/en/latest/guides/writing-pyproject-toml/"
   ]
  },
  {
   "cell_type": "markdown",
   "id": "79aef9a0-3641-4156-abda-5f7b9cf7e35f",
   "metadata": {},
   "source": [
    "My pyproject.toml for this project <br>\n",
    "![image.png](images/pyprojecttoml_1.png)"
   ]
  },
  {
   "cell_type": "markdown",
   "id": "b93769ef-6e92-4b95-8e65-090db6172d7e",
   "metadata": {},
   "source": [
    "Now with the pyproject.toml, we have the ability to install our package \n",
    "using the command . pyproject.toml is the specified file format of PEP 518 which contains the build system requirements of Python projects. https://peps.python.org/pep-0518/ \n",
    "```\n",
    "pip install .\n",
    "```"
   ]
  },
  {
   "cell_type": "markdown",
   "id": "440efc32-56c9-4d48-88cb-473ba5cddf7f",
   "metadata": {
    "jp-MarkdownHeadingCollapsed": true,
    "tags": []
   },
   "source": [
    "## Building and Publishing the package"
   ]
  },
  {
   "cell_type": "markdown",
   "id": "b7bf3acc-d29e-49d4-861b-d6711bd40379",
   "metadata": {},
   "source": [
    "1. install twine \n",
    "```\n",
    "python3 -m pip install twine\n",
    "```\n",
    "\n",
    "2. install build\n",
    "```\n",
    "python3 -m pip install build\n",
    "```\n",
    "3. Then run \n",
    "```\n",
    "python3 -m build --sdist\n",
    "```\n",
    "\n",
    "4. Lets publish our package to testpypi to make sure it works as intended, if it works as intended then we will publish it to pypi  https://packaging.python.org/en/latest/guides/using-testpypi/ , which requires creating an account on https://test.pypi.org \n",
    "\n",
    "5. After creating an account you need to create an api token to upload https://test.pypi.org/manage/account/ <br>\n",
    "![image.png](images/add_api_token.png)\n",
    "\n",
    "6. Using this token\n",
    "To use this API token:\n",
    "\n",
    "    Set your username to __token__\n",
    "    Set your password to the token value, including the pypi- prefix\n",
    "\n",
    "For example, if you are using Twine to upload your projects to PyPI, set up your $HOME/.pypirc file like this.We'll either edit the existing file or create a new file: \n",
    "```\n",
    "vim $HOME/.pypirc \n",
    "```\n",
    "Now add this to the .pypirc file <br>\n",
    "```\n",
    "[testpypi] <br>\n",
    "username = __token__\n",
    "password = pypi- \n",
    "```\n",
    "\n",
    "7. Upload it with command \n",
    "```\n",
    "twine upload --repository testpypi dist/*\n",
    "```\n",
    "\n",
    "8. Now we can view that our package exist on test.pypi <br> \n",
    "https://test.pypi.org/project/cafe-data-calculator/0.0.1/ \n",
    "\n",
    "9. We can now install our package in fresh environments and use these functions by\n",
    "```\n",
    "pip install -i https://test.pypi.org/simple/ cafe-data-calculator==0.0.1\n",
    "```"
   ]
  },
  {
   "cell_type": "markdown",
   "id": "26445785-e77b-4fde-841f-94069f211988",
   "metadata": {
    "jp-MarkdownHeadingCollapsed": true,
    "tags": []
   },
   "source": [
    "## Editing an existing package"
   ]
  },
  {
   "cell_type": "markdown",
   "id": "8f8646f9-9bb4-4edb-a581-8f4a76116f79",
   "metadata": {},
   "source": [
    "If we need to make changes to the package, we need to republish the package\n",
    "1. Make your changes, then make sure to bump the version in the pyproject.yml in our case from 0.0.1 to 0.0.2 <br>\n",
    "![image.png](images/pyprojecttoml_2.png) <br>\n",
    "2. Then build <br> \n",
    "```\n",
    "python3 -m build --sdist\n",
    "```\n",
    "3. Upload <br>\n",
    "```\n",
    "twine upload --repository testpypi dist/*\n",
    "```\n",
    "4. Now we have a new version https://test.pypi.org/project/cafe-data-calculator/0.0.2/ <br>"
   ]
  },
  {
   "cell_type": "markdown",
   "id": "f9e00d0b-30f6-4cc7-8ea1-bef93f8b037b",
   "metadata": {
    "jp-MarkdownHeadingCollapsed": true,
    "tags": []
   },
   "source": [
    "## Publishing to pypi"
   ]
  },
  {
   "cell_type": "markdown",
   "id": "6d7a8405-efed-4229-8343-c24fe64602b2",
   "metadata": {
    "jp-MarkdownHeadingCollapsed": true,
    "tags": []
   },
   "source": [
    "1. Similar to testpypi, we'll need to create an account on https://pypi.org/\n",
    "2. then create an api key https://pypi.org/manage/account/ \n",
    "3. add it to pypirc <br>\n",
    "\n",
    "```\n",
    "vim $HOME/.pypirc \n",
    "```\n",
    "then \n",
    "\n",
    "```\n",
    "[pypi]\n",
    "username = __token__\n",
    "password = pypi-\n",
    "```\n",
    "\n",
    "4. Then build <br> \n",
    "```\n",
    "python3 -m build\n",
    "```\n",
    "\n",
    "5. Then upload <br>\n",
    "```\n",
    "twine upload dist/*\n",
    "```\n",
    "For more details:\n",
    "https://realpython.com/pypi-publish-python-package/#upload-your-package\n",
    "\n",
    "6. We can now see our package is uploaded https://pypi.org/project/cafe-data-calculator/0.0.2/ "
   ]
  },
  {
   "cell_type": "markdown",
   "id": "9a945887-6238-4e98-9ddb-61755fbe1a4c",
   "metadata": {
    "tags": []
   },
   "source": [
    "## Deployment"
   ]
  },
  {
   "cell_type": "markdown",
   "id": "078f9ebe-65ec-44db-bcd6-35a56e23dfa6",
   "metadata": {},
   "source": [
    "Now lets deploy our app to https://mybinder.org/ <br>\n",
    "\n",
    "\"mybinder.org is an online service for building and sharing reproducible and interactive computational environments from online repositories. Under the hood, it is a federation of BinderHub deployments that are maintained by the Binder community. It serves as both a public service and a demonstration of the BinderHub technology, though it is by no means the only BinderHub in existence. If you’re interested in deploying your own BinderHub for your own uses, please see the BinderHub documentation and don’t hesitate to reach out to the Binder community.\"\n",
    "https://mybinder.readthedocs.io/en/latest/introduction.html#introduction \n"
   ]
  },
  {
   "cell_type": "markdown",
   "id": "47d569ee-ed5f-4402-837e-48fc2ae8c4da",
   "metadata": {},
   "source": [
    "We can deploy the notebook and we can deploy the panel app"
   ]
  },
  {
   "cell_type": "markdown",
   "id": "6b98f4eb-d364-4e96-9154-d96786799a5a",
   "metadata": {},
   "source": [
    "Deploying the notebook clean_calculator.ipynb <br>\n",
    "![image.png](images/binder.png) <br>\n",
    "\n",
    "It can take a while to load"
   ]
  },
  {
   "cell_type": "markdown",
   "id": "61c9f692-fad0-4e19-9d63-ab2fe6b5f402",
   "metadata": {},
   "source": [
    "Afterwards we can share the link or add nice banner to our Readme"
   ]
  },
  {
   "cell_type": "markdown",
   "id": "fc3be682-08b3-48af-8d71-96044dbd6bd6",
   "metadata": {},
   "source": [
    "https://mybinder.org/v2/gh/EduardoLZevallos/cafe_data_calculator.git/main?labpath=clean_calculator.ipynb <br>\n",
    "[![Binder](https://mybinder.org/badge_logo.svg)](https://mybinder.org/v2/gh/EduardoLZevallos/cafe_data_calculator.git/main?labpath=clean_calculator.ipynb)"
   ]
  },
  {
   "cell_type": "markdown",
   "id": "4a33c8d5-069a-49e5-a52e-3ebc66826be3",
   "metadata": {},
   "source": [
    "Create the panel app version https://panel.holoviz.org/how_to/deployment/binder.html \n",
    "1. Add an environment.yml which declares a conda environment with the dependencies required to run the app (refer to the conda documentation to see how to declare your dependencies). Add jupyter_panel_proxy as a dependency by adding either conda-forge or pyviz to the channel list:\n",
    "2.  For this repo our environment.yml will look like this <br>\n",
    "![image.png](images/environmentyml.png) <br>\n",
    "3. We can then take our original binder link minus labpath https://mybinder.org/v2/gh/EduardoLZevallos/cafe_data_calculator.git/main and then append ?urlpath=/panel/{name of our app notebook}, <br> \n",
    "so in this case  https://mybinder.org/v2/gh/EduardoLZevallos/cafe_data_calculator.git/main?urlpath=/panel/clean_calculator"
   ]
  },
  {
   "cell_type": "markdown",
   "id": "2ec50798-0194-486a-9a1a-9c7c61c951b5",
   "metadata": {},
   "source": [
    "https://mybinder.org/v2/gh/EduardoLZevallos/cafe_data_calculator.git/main?urlpath=/panel/clean_calculator <br>\n",
    "[![app](https://img.shields.io/badge/launch-binder%20app-579ACA.svg?logo=data:image/png;base64,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)](https://mybinder.org/v2/gh/EduardoLZevallos/cafe_data_calculator.git/main?urlpath=/panel/clean_calculator) "
   ]
  },
  {
   "cell_type": "markdown",
   "id": "49a7ad4d-568c-4f92-956d-3772508ea5ab",
   "metadata": {},
   "source": [
    "if your notebook app doesn't have servable you will get an error <br>\n",
    "![image.png](images/servableExample.png) <br>"
   ]
  },
  {
   "cell_type": "markdown",
   "id": "4627a8e9-33f3-49f6-bacd-81ee86ee78e5",
   "metadata": {},
   "source": [
    "Servable https://panel.holoviz.org/getting_started/core_concepts.html <br>\n",
    "Whenever you mark an object as .servable you are inserting it into a template. By default Panel uses a completely blank template, but it is very simple to select another template by setting pn.config.template. Here you will have a few options based on different frameworks, including 'bootstrap', 'material' and 'fast'. In the notebook the .servable() method is effectively a no-op. This means you can add it the components you want to add to the rendered app but also see it rendered inline. This makes it possible to build components sequentially in a notebook while simultaneously building an application to be served. If you want to mark something servable but do not want it rendered inline, just put a semicolon (‘;’) after it to tell Jupyter not to render it even if it is the last item in the cell."
   ]
  },
  {
   "cell_type": "markdown",
   "id": "a7374c7e-23ca-4946-b082-b880a1907d29",
   "metadata": {},
   "source": [
    "Try to get it work as an app \n",
    "https://discourse.holoviz.org/t/how-do-i-serve-my-panel-apps-on-binder/1946 \n",
    "https://panel.holoviz.org/how_to/deployment/binder.html\n",
    "this person's example \n",
    "https://github.com/MarcSkovMadsen/load-forecasts/blob/main/app_code.py \n",
    "https://hub.ovh2.mybinder.org/user/marcskovmadsen-load-forecasts-vbv4k5ly/panel/app?token=GtAhdHgsRIm82nl_voawrQ"
   ]
  }
 ],
 "metadata": {
  "kernelspec": {
   "display_name": "calculator_tutorial_kernel",
   "language": "python",
   "name": "calculator_tutorial_kernel"
  },
  "language_info": {
   "codemirror_mode": {
    "name": "ipython",
    "version": 3
   },
   "file_extension": ".py",
   "mimetype": "text/x-python",
   "name": "python",
   "nbconvert_exporter": "python",
   "pygments_lexer": "ipython3",
   "version": "3.11.6"
  }
 },
 "nbformat": 4,
 "nbformat_minor": 5
}
