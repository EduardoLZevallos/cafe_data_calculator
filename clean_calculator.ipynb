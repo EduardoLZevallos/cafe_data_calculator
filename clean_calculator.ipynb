{
 "cells": [
  {
   "cell_type": "code",
   "execution_count": 3,
   "id": "06e06634-c011-4f09-a6ca-866d2167b0ac",
   "metadata": {},
   "outputs": [
    {
     "ename": "ModuleNotFoundError",
     "evalue": "No module named 'cafe_data_calculator'",
     "output_type": "error",
     "traceback": [
      "\u001b[0;31m---------------------------------------------------------------------------\u001b[0m",
      "\u001b[0;31mModuleNotFoundError\u001b[0m                       Traceback (most recent call last)",
      "Cell \u001b[0;32mIn[3], line 3\u001b[0m\n\u001b[1;32m      1\u001b[0m \u001b[38;5;28;01mimport\u001b[39;00m \u001b[38;5;21;01mdatetime\u001b[39;00m\n\u001b[1;32m      2\u001b[0m \u001b[38;5;28;01mimport\u001b[39;00m \u001b[38;5;21;01mpanel\u001b[39;00m \u001b[38;5;28;01mas\u001b[39;00m \u001b[38;5;21;01mpn\u001b[39;00m\n\u001b[0;32m----> 3\u001b[0m \u001b[38;5;28;01mfrom\u001b[39;00m \u001b[38;5;21;01mcafe_data_calculator\u001b[39;00m\u001b[38;5;21;01m.\u001b[39;00m\u001b[38;5;21;01mcalculator\u001b[39;00m \u001b[38;5;28;01mimport\u001b[39;00m (\n\u001b[1;32m      4\u001b[0m     convert_request_to_processors,\n\u001b[1;32m      5\u001b[0m     convert_processors_to_machines, \n\u001b[1;32m      6\u001b[0m     apply_additional_capacity\n\u001b[1;32m      7\u001b[0m )\n\u001b[1;32m      8\u001b[0m pn\u001b[38;5;241m.\u001b[39mextension(template\u001b[38;5;241m=\u001b[39m\u001b[38;5;124m'\u001b[39m\u001b[38;5;124mfast\u001b[39m\u001b[38;5;124m'\u001b[39m)\n",
      "\u001b[0;31mModuleNotFoundError\u001b[0m: No module named 'cafe_data_calculator'"
     ]
    }
   ],
   "source": [
    "import datetime\n",
    "import panel as pn\n",
    "from cafe_data_calculator.calculator import (\n",
    "    convert_request_to_processors,\n",
    "    convert_processors_to_machines, \n",
    "    apply_additional_capacity\n",
    ")\n",
    "pn.extension(template='fast')"
   ]
  },
  {
   "cell_type": "code",
   "execution_count": null,
   "id": "d809efbf-aacd-4dc2-ae63-e2caa2ace0f8",
   "metadata": {
    "tags": []
   },
   "outputs": [],
   "source": [
    "def on_click_calculate(event):\n",
    "# could write this in one line \n",
    "# machines = apply_additional_capacity(convert_processors_to_machines(convert_request_to_processors(request_input.value)), time_input.value.time())\n",
    "    processors = convert_request_to_processors(request_input.value)\n",
    "    machines = convert_processors_to_machines(processors)\n",
    "    machines = apply_additional_capacity(machines, time_input.value.time())\n",
    "    machines_output.value = machines\n",
    "    \n",
    "request_input = pn.widgets.IntInput(name='Requests', value=1, step=1, start=1, end=1000000)\n",
    "time_input = pn.widgets.DatetimeInput(name='Time of request', value=datetime.datetime(2019, 2, 8, 0,0), format ='%H:%M') # requires datetime package\n",
    "machines_output = pn.widgets.IntInput(name='Machines', value = 0, disabled= True)\n",
    "calculate_button = pn.widgets.Button(name='Calculate', button_type='primary')\n",
    "calculate_button.on_click(on_click_calculate)\n",
    "app = pn.Column(\n",
    "    pn.pane.Markdown(\"\"\"\n",
    "    This calculator takes requests as inputs and converts them to machines \n",
    "    \"\"\"),\n",
    "    pn.Row(request_input,time_input), \n",
    "    calculate_button, \n",
    "    machines_output\n",
    ")\n",
    "app.servable(title = \"Request to Machine Calculator\", target='main')"
   ]
  }
 ],
 "metadata": {
  "kernelspec": {
   "display_name": "Python 3 (ipykernel)",
   "language": "python",
   "name": "python3"
  },
  "language_info": {
   "codemirror_mode": {
    "name": "ipython",
    "version": 3
   },
   "file_extension": ".py",
   "mimetype": "text/x-python",
   "name": "python",
   "nbconvert_exporter": "python",
   "pygments_lexer": "ipython3",
   "version": "3.9.5"
  }
 },
 "nbformat": 4,
 "nbformat_minor": 5
}
