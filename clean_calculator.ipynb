{
 "cells": [
  {
   "cell_type": "code",
   "execution_count": null,
   "id": "06e06634-c011-4f09-a6ca-866d2167b0ac",
   "metadata": {},
   "outputs": [],
   "source": [
    "import datetime\n",
    "import panel as pn\n",
    "from cafe_data_calculator.calculator import (\n",
    "    convert_request_to_processors,\n",
    "    convert_processors_to_machines, \n",
    "    apply_additional_capacity\n",
    ")\n",
    "pn.extension(template='fast')"
   ]
  },
  {
   "cell_type": "code",
   "execution_count": null,
   "id": "d809efbf-aacd-4dc2-ae63-e2caa2ace0f8",
   "metadata": {
    "tags": []
   },
   "outputs": [],
   "source": [
    "def on_click_calculate(event):\n",
    "# could write this in one line \n",
    "# machines = apply_additional_capacity(convert_processors_to_machines(convert_request_to_processors(request_input.value)), time_input.value.time())\n",
    "    processors = convert_request_to_processors(request_input.value)\n",
    "    machines = convert_processors_to_machines(processors)\n",
    "    machines = apply_additional_capacity(machines, time_input.value.time())\n",
    "    machines_output.value = machines\n",
    "    \n",
    "request_input = pn.widgets.IntInput(name='Requests', value=1, step=1, start=1, end=1000000)\n",
    "time_input = pn.widgets.DatetimeInput(name='Time of request', value=datetime.datetime(2019, 2, 8, 0,0), format ='%H:%M') # requires datetime package\n",
    "machines_output = pn.widgets.IntInput(name='Machines', value = 0, disabled= True)\n",
    "calculate_button = pn.widgets.Button(name='Calculate', button_type='primary')\n",
    "calculate_button.on_click(on_click_calculate)\n",
    "app = pn.Column(\n",
    "    pn.pane.Markdown(\"\"\"\n",
    "    This calculator takes requests as inputs and converts them to machines \n",
    "    \"\"\"),\n",
    "    pn.Row(request_input,time_input), \n",
    "    calculate_button, \n",
    "    machines_output\n",
    ")\n",
    "app.servable(title = \"Request to Machine Calculator\", target='main')"
   ]
  }
 ],
 "metadata": {
  "kernelspec": {
   "display_name": "calculator_tutorial_kernel",
   "language": "python",
   "name": "calculator_tutorial_kernel"
  },
  "language_info": {
   "codemirror_mode": {
    "name": "ipython",
    "version": 3
   },
   "file_extension": ".py",
   "mimetype": "text/x-python",
   "name": "python",
   "nbconvert_exporter": "python",
   "pygments_lexer": "ipython3",
   "version": "3.11.6"
  }
 },
 "nbformat": 4,
 "nbformat_minor": 5
}
