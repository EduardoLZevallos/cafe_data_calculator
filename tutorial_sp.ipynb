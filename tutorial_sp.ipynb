{
 "cells": [
  {
   "cell_type": "markdown",
   "id": "e9ee9470-e5da-424d-8d78-e77285ad2de1",
   "metadata": {
    "tags": []
   },
   "source": [
    "# TUTORIAL"
   ]
  },
  {
   "cell_type": "markdown",
   "id": "4910f1d2-833d-45d2-b546-11be8de54fcf",
   "metadata": {},
   "source": [
    "nota: para paginas que no tienen un version en espanol puedes usar https://translate.google.com/?sjid=16226486302937946575-NA&sl=auto&tl=en&op=websites para una traducion de la pagina"
   ]
  },
  {
   "cell_type": "markdown",
   "id": "93e23de7-29a8-41e2-8b3f-8b39148c805b",
   "metadata": {
    "tags": []
   },
   "source": [
    "## Creación de un paquete Python\n",
    "https://packaging.python.org/en/latest/guides/section-build-and-publish/\n",
    "\n",
    "Un paquete Python normalmente consta de varios módulos. Un módulo es un código reutilizable e importable.<br>\r\n",
    "Un paquete de Python que ha sido publicado generalmente s ellama una libreraa."
   ]
  },
  {
   "cell_type": "markdown",
   "id": "7002ec3c-7612-447e-8a08-d47f0dccedd9",
   "metadata": {
    "tags": []
   },
   "source": [
    "### Convertir jupyter notebook en guión"
   ]
  },
  {
   "cell_type": "markdown",
   "id": "4a067206-7dce-4054-8410-4d50d0080130",
   "metadata": {},
   "source": [
    "Convirtamos primero nuestro jupyter notebook en un guion"
   ]
  },
  {
   "cell_type": "markdown",
   "id": "407d0670-52c4-4c3a-bf65-058d3c1a60cf",
   "metadata": {
    "tags": []
   },
   "source": [
    "![image.png](images/convert_to_script.png)"
   ]
  },
  {
   "cell_type": "markdown",
   "id": "a2d4e1e6-bcb5-46fb-8351-9dba6d522c48",
   "metadata": {},
   "source": [
    "Después de limpiarlo un poco, llamaremos a nuestro guión calculator.py y tendrá las tres funciones que hicimos en el otro jupyter lab pagina<br>\n",
    "![image.png](images/calculator_py.png)"
   ]
  },
  {
   "cell_type": "markdown",
   "id": "699a71c4-05a6-4e46-a117-e0a7c0dc848a",
   "metadata": {
    "tags": []
   },
   "source": [
    "### Crear pruebas del codigo"
   ]
  },
  {
   "cell_type": "markdown",
   "id": "ffaffa60-cd06-4099-840d-a4bc1dce6b3e",
   "metadata": {},
   "source": [
    "Escribir pruebas para tu codigo es una tema muy granda solo lo estoy introduciendo aqui.  El beneficio de las pruebas es que sirve como una forma de documentación, hace futuras refactorizaciones más fácil ya que veremos si rompimos algo inmediatamente y confirma que nuestro código funciona de la manera que creemos que debería funcionar. Debemos probar los casos common y las rutas condicionales del código.  <br>\n",
    "\n",
    "Para corer las pruebas vamos a usar la libreria pytest.\n",
    "\n",
    "Pondremos nuestras pruebas en una carpeta llamada tests y la llamaremos test_{funcion que estamos probando}.py, esa conversion de nombre es requerida por la libreria pytest que vamos a usar para nuestos pruebas. <br> \n",
    "\n",
    "**Bring up the test_calculator.py and run them for demo, and explain some of the test** "
   ]
  },
  {
   "cell_type": "markdown",
   "id": "79ec4e07-fae3-43a9-bdb3-3cc02f2e414a",
   "metadata": {
    "tags": []
   },
   "source": [
    "### Convertir guion en paquete"
   ]
  },
  {
   "cell_type": "markdown",
   "id": "51b93ace-7362-484d-bc0d-4d77c8ed4f14",
   "metadata": {},
   "source": [
    "A continuación vamos a convertir nuestro guion en un paquete.\n",
    "https://packaging.python.org/en/latest/guides/writing-pyproject-toml/\n",
    "pyproject.toml es el formato de archivo especificado de PEP 518 que contiene los requisitos del sistema de construcción de proyectos Python. https://peps.python.org/pep-0518/ "
   ]
  },
  {
   "cell_type": "markdown",
   "id": "79aef9a0-3641-4156-abda-5f7b9cf7e35f",
   "metadata": {},
   "source": [
    "Mi pyproject.toml para este proyecto <br>\n",
    "![image.png](images/pyprojecttoml_1.png)"
   ]
  },
  {
   "cell_type": "markdown",
   "id": "b93769ef-6e92-4b95-8e65-090db6172d7e",
   "metadata": {},
   "source": [
    "Ahora con el pyproject.toml, tenemos la capacidad de instalar nuestro paquete \n",
    "usando el comando . (punto)\n",
    "```\n",
    "pip install .\n",
    "```"
   ]
  },
  {
   "cell_type": "markdown",
   "id": "440efc32-56c9-4d48-88cb-473ba5cddf7f",
   "metadata": {
    "tags": []
   },
   "source": [
    "## Publicación del paquete"
   ]
  },
  {
   "cell_type": "markdown",
   "id": "b7bf3acc-d29e-49d4-861b-d6711bd40379",
   "metadata": {},
   "source": [
    "1. instale twine \n",
    "```\n",
    "python3 -m pip install twine\n",
    "```\n",
    "\n",
    "2. instale build\n",
    "```\n",
    "python3 -m pip install build\n",
    "```\n",
    "3. Ejecutar build\n",
    "```\n",
    "python3 -m build --sdist\n",
    "```\n",
    "\n",
    "4.  Vamos a publicar nuestro paquete en testpypi. Pypi es un repositorio de software para Python. Usamos testpypi para asegurarnos de que funciona como es debido, si funciona como es debido entonces lo publicaremos en pypi  https://packaging.python.org/en/latest/guides/using-testpypi/, que requiere crear una cuenta en https://test.pypi.org \n",
    "\n",
    "5. Después de crear una cuenta es necesario crear un token api para cargar https://test.pypi.org/manage/account/ <br>\n",
    "![image.png](images/add_api_token.png)\n",
    "\n",
    "6. Para utilizar este token de API:\n",
    "\n",
    "configura tu archivo $HOME/.pypirc de la siguiente manera.Editaremos el archivo existente o crearemos uno nuevo: \n",
    "```\n",
    "vim $HOME/.pypirc \n",
    "```\n",
    "Ahora agrege esto al archivo .pypirc <br>\n",
    "```\n",
    "[testpypi] <br>\n",
    "username = __token__\n",
    "password = pypi- \n",
    "```\n",
    "\n",
    "7. Cárgalo con\n",
    "```\n",
    "twine upload --repository testpypi dist/*\n",
    "```\n",
    "\n",
    "8. Ahora podemos ver que nuestro paquete existe en test.pypi <br> \n",
    "https://test.pypi.org/project/cafe-data-calculator/0.0.1/ \n",
    "\n",
    "9. Ahora podemos instalar nuestro paquete en entornos nuevos y utilizar estas funciones mediante\n",
    "```\n",
    "pip install -i https://test.pypi.org/simple/ cafe-data-calculator==0.0.1\n",
    "```\n",
    "10. Como testpypi, tendremos que crear una cuenta en https://pypi.org/"
   ]
  },
  {
   "cell_type": "markdown",
   "id": "9a945887-6238-4e98-9ddb-61755fbe1a4c",
   "metadata": {
    "tags": []
   },
   "source": [
    "## Desplegar nuestra aplicación en https://mybinder.org/"
   ]
  },
  {
   "cell_type": "markdown",
   "id": "e68c86f9-fd7c-4545-a630-7cc94037a4d0",
   "metadata": {},
   "source": [
    "### Que es mybinder? \n",
    "**mybinder.org** es un servicio en línea para construir y compartir entornos computacionales reproducibles e interactivos a partir de repositorios en línea.\n",
    "https://mybinder.readthedocs.io/en/latest/introduction.html#introduction "
   ]
  },
  {
   "cell_type": "markdown",
   "id": "47d569ee-ed5f-4402-837e-48fc2ae8c4da",
   "metadata": {},
   "source": [
    "Podemos desplegar el jupyter notebook y podemos desplegar la aplicación de panel.  Debemos hacer un jupyter notebook lipio para binder.  "
   ]
  },
  {
   "cell_type": "markdown",
   "id": "6b98f4eb-d364-4e96-9154-d96786799a5a",
   "metadata": {},
   "source": [
    "Vaya a mybinder.org e introduzca los campos correspondientes. Tenga en cuenta que el jupyter notebook puede tardar un poco en aparecer. <br>\n",
    "![image.png](images/binder.png) <br>"
   ]
  },
  {
   "cell_type": "markdown",
   "id": "61c9f692-fad0-4e19-9d63-ab2fe6b5f402",
   "metadata": {},
   "source": [
    "Después podemos compartir el enlace o agregar un bonito banner a nuestro Readme del repositario. "
   ]
  },
  {
   "cell_type": "markdown",
   "id": "fc3be682-08b3-48af-8d71-96044dbd6bd6",
   "metadata": {},
   "source": [
    "Link: https://mybinder.org/v2/gh/EduardoLZevallos/cafe_data_calculator.git/main?labpath=clean_calculator.ipynb <br>\n",
    "Banner: [![Binder](https://mybinder.org/badge_logo.svg)](https://mybinder.org/v2/gh/EduardoLZevallos/cafe_data_calculator.git/main?labpath=clean_calculator.ipynb)"
   ]
  },
  {
   "cell_type": "markdown",
   "id": "4a33c8d5-069a-49e5-a52e-3ebc66826be3",
   "metadata": {},
   "source": [
    "Crear la versión de la aplicación del panel https://panel.holoviz.org/how_to/deployment/binder.html \n",
    "1. Crea un environment.yml que declare un entorno conda con las dependencias necesarias para ejecutar la aplicación (consulta la documentación de conda para ver cómo declarar tus dependencias). Agrege jupyter_panel_proxy como dependencia y agrege conda-forge o pyviz a la lista de canales.\n",
    "\n",
    "2.   Para este repositorio, nuestro environment.yml tendrá el siguiente aspecto <br>\n",
    "![image.png](images/environmentyml.png) <br>\n",
    "\n",
    "3. Asegúrese de que tiene servable en su portátil, de lo contrario obtendrá un error  <br>\n",
    "\n",
    "4. A continuación, podemos tomar nuestro enlace binder original menos labpath https://mybinder.org/v2/gh/EduardoLZevallos/cafe_data_calculator.git/main y luego agregar ?urlpath=/panel/{name of our app notebook}, <br>   \n",
    "\n",
    "**https://mybinder.org/v2/gh/EduardoLZevallos/cafe_data_calculator.git/main?urlpath=/panel/clean_calculator**"
   ]
  },
  {
   "cell_type": "markdown",
   "id": "2ec50798-0194-486a-9a1a-9c7c61c951b5",
   "metadata": {
    "tags": []
   },
   "source": [
    "Link : https://mybinder.org/v2/gh/EduardoLZevallos/cafe_data_calculator.git/main?urlpath=/panel/clean_calculator <br>\n",
    "Banner: [![app](https://img.shields.io/badge/launch-binder%20app-579ACA.svg?logo=data:image/png;base64,iVBORw0KGgoAAAANSUhEUgAAAFkAAABZCAMAAABi1XidAAAB8lBMVEX///9XmsrmZYH1olJXmsr1olJXmsrmZYH1olJXmsr1olJXmsrmZYH1olL1olJXmsr1olJXmsrmZYH1olL1olJXmsrmZYH1olJXmsr1olL1olJXmsrmZYH1olL1olJXmsrmZYH1olL1olL0nFf1olJXmsrmZYH1olJXmsq8dZb1olJXmsrmZYH1olJXmspXmspXmsr1olL1olJXmsrmZYH1olJXmsr1olL1olJXmsrmZYH1olL1olLeaIVXmsrmZYH1olL1olL1olJXmsrmZYH1olLna31Xmsr1olJXmsr1olJXmsrmZYH1olLqoVr1olJXmsr1olJXmsrmZYH1olL1olKkfaPobXvviGabgadXmsqThKuofKHmZ4Dobnr1olJXmsr1olJXmspXmsr1olJXmsrfZ4TuhWn1olL1olJXmsqBi7X1olJXmspZmslbmMhbmsdemsVfl8ZgmsNim8Jpk8F0m7R4m7F5nLB6jbh7jbiDirOEibOGnKaMhq+PnaCVg6qWg6qegKaff6WhnpKofKGtnomxeZy3noG6dZi+n3vCcpPDcpPGn3bLb4/Mb47UbIrVa4rYoGjdaIbeaIXhoWHmZYHobXvpcHjqdHXreHLroVrsfG/uhGnuh2bwj2Hxk17yl1vzmljzm1j0nlX1olL3AJXWAAAAbXRSTlMAEBAQHx8gICAuLjAwMDw9PUBAQEpQUFBXV1hgYGBkcHBwcXl8gICAgoiIkJCQlJicnJ2goKCmqK+wsLC4usDAwMjP0NDQ1NbW3Nzg4ODi5+3v8PDw8/T09PX29vb39/f5+fr7+/z8/Pz9/v7+zczCxgAABC5JREFUeAHN1ul3k0UUBvCb1CTVpmpaitAGSLSpSuKCLWpbTKNJFGlcSMAFF63iUmRccNG6gLbuxkXU66JAUef/9LSpmXnyLr3T5AO/rzl5zj137p136BISy44fKJXuGN/d19PUfYeO67Znqtf2KH33Id1psXoFdW30sPZ1sMvs2D060AHqws4FHeJojLZqnw53cmfvg+XR8mC0OEjuxrXEkX5ydeVJLVIlV0e10PXk5k7dYeHu7Cj1j+49uKg7uLU61tGLw1lq27ugQYlclHC4bgv7VQ+TAyj5Zc/UjsPvs1sd5cWryWObtvWT2EPa4rtnWW3JkpjggEpbOsPr7F7EyNewtpBIslA7p43HCsnwooXTEc3UmPmCNn5lrqTJxy6nRmcavGZVt/3Da2pD5NHvsOHJCrdc1G2r3DITpU7yic7w/7Rxnjc0kt5GC4djiv2Sz3Fb2iEZg41/ddsFDoyuYrIkmFehz0HR2thPgQqMyQYb2OtB0WxsZ3BeG3+wpRb1vzl2UYBog8FfGhttFKjtAclnZYrRo9ryG9uG/FZQU4AEg8ZE9LjGMzTmqKXPLnlWVnIlQQTvxJf8ip7VgjZjyVPrjw1te5otM7RmP7xm+sK2Gv9I8Gi++BRbEkR9EBw8zRUcKxwp73xkaLiqQb+kGduJTNHG72zcW9LoJgqQxpP3/Tj//c3yB0tqzaml05/+orHLksVO+95kX7/7qgJvnjlrfr2Ggsyx0eoy9uPzN5SPd86aXggOsEKW2Prz7du3VID3/tzs/sSRs2w7ovVHKtjrX2pd7ZMlTxAYfBAL9jiDwfLkq55Tm7ifhMlTGPyCAs7RFRhn47JnlcB9RM5T97ASuZXIcVNuUDIndpDbdsfrqsOppeXl5Y+XVKdjFCTh+zGaVuj0d9zy05PPK3QzBamxdwtTCrzyg/2Rvf2EstUjordGwa/kx9mSJLr8mLLtCW8HHGJc2R5hS219IiF6PnTusOqcMl57gm0Z8kanKMAQg0qSyuZfn7zItsbGyO9QlnxY0eCuD1XL2ys/MsrQhltE7Ug0uFOzufJFE2PxBo/YAx8XPPdDwWN0MrDRYIZF0mSMKCNHgaIVFoBbNoLJ7tEQDKxGF0kcLQimojCZopv0OkNOyWCCg9XMVAi7ARJzQdM2QUh0gmBozjc3Skg6dSBRqDGYSUOu66Zg+I2fNZs/M3/f/Grl/XnyF1Gw3VKCez0PN5IUfFLqvgUN4C0qNqYs5YhPL+aVZYDE4IpUk57oSFnJm4FyCqqOE0jhY2SMyLFoo56zyo6becOS5UVDdj7Vih0zp+tcMhwRpBeLyqtIjlJKAIZSbI8SGSF3k0pA3mR5tHuwPFoa7N7reoq2bqCsAk1HqCu5uvI1n6JuRXI+S1Mco54YmYTwcn6Aeic+kssXi8XpXC4V3t7/ADuTNKaQJdScAAAAAElFTkSuQmCC)](https://mybinder.org/v2/gh/EduardoLZevallos/cafe_data_calculator.git/main?urlpath=/panel/clean_calculator) "
   ]
  },
  {
   "cell_type": "markdown",
   "id": "d0d0230d-b69c-49a9-a260-f9a7c0b87716",
   "metadata": {
    "tags": []
   },
   "source": [
    "## Additional Resources"
   ]
  },
  {
   "cell_type": "markdown",
   "id": "7230ce9c-be2a-429c-a6e8-66baa5440904",
   "metadata": {},
   "source": [
    "1. Instalar jupyter-lab  https://jupyterlab.readthedocs.io/en/stable/getting_started/installation.html \n",
    "\n",
    "2. Registrar el kernel  https://saturncloud.io/blog/how-to-add-a-python-3-kernel-to-jupyter-ipython/#step-3-install-the-ipython-kernel-package \n",
    "\n",
    "3. Para cambiar jupyter lab a español ejecuta\n",
    "```\n",
    "pip install jupyterlab-language-pack-ca-ES\n",
    "```\n",
    "https://jupyterlab.readthedocs.io/en/stable/user/language.html"
   ]
  },
  {
   "cell_type": "code",
   "execution_count": null,
   "id": "2eb815d2-da7b-42b1-99f6-fc327541f81e",
   "metadata": {},
   "outputs": [],
   "source": []
  }
 ],
 "metadata": {
  "kernelspec": {
   "display_name": "Python 3 (ipykernel)",
   "language": "python",
   "name": "python3"
  },
  "language_info": {
   "codemirror_mode": {
    "name": "ipython",
    "version": 3
   },
   "file_extension": ".py",
   "mimetype": "text/x-python",
   "name": "python",
   "nbconvert_exporter": "python",
   "pygments_lexer": "ipython3",
   "version": "3.9.5"
  }
 },
 "nbformat": 4,
 "nbformat_minor": 5
}
