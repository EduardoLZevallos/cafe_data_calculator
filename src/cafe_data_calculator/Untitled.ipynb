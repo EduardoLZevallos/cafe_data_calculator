{
 "cells": [
  {
   "cell_type": "code",
   "execution_count": null,
   "id": "d2201446-f6f9-4f6e-8996-af9ac8c22bc5",
   "metadata": {},
   "outputs": [],
   "source": [
    "pip install -i https://test.pypi.org/simple/ cafe-data-calculator==0.0.1"
   ]
  },
  {
   "cell_type": "code",
   "execution_count": null,
   "id": "ae89459f-1d68-4abb-9d1f-8225cf91183a",
   "metadata": {},
   "outputs": [],
   "source": [
    "import cafe_data_calculator.calculator"
   ]
  },
  {
   "cell_type": "code",
   "execution_count": null,
   "id": "4e51c0f0-5886-4f38-891b-4e719abc4f49",
   "metadata": {},
   "outputs": [],
   "source": [
    "cafe_data_calculator.calculator.convert_request_to_processors(10)"
   ]
  },
  {
   "cell_type": "code",
   "execution_count": null,
   "id": "35ee47da-3e9f-4c8b-96e1-051102165d2c",
   "metadata": {},
   "outputs": [],
   "source": [
    "cafe_data_calculator.calculator.convert_request_to_processors(11)"
   ]
  },
  {
   "cell_type": "code",
   "execution_count": null,
   "id": "566a1263-735d-46e2-8d4f-39f42dbc3f3f",
   "metadata": {},
   "outputs": [],
   "source": []
  }
 ],
 "metadata": {
  "kernelspec": {
   "display_name": "did_they_write",
   "language": "python",
   "name": "did_they_write"
  },
  "language_info": {
   "codemirror_mode": {
    "name": "ipython",
    "version": 3
   },
   "file_extension": ".py",
   "mimetype": "text/x-python",
   "name": "python",
   "nbconvert_exporter": "python",
   "pygments_lexer": "ipython3",
   "version": "3.8.2"
  }
 },
 "nbformat": 4,
 "nbformat_minor": 5
}
